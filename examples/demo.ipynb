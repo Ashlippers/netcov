{
 "cells": [
  {
   "cell_type": "markdown",
   "id": "15573281-669e-404e-9887-782d864f83a0",
   "metadata": {},
   "source": [
    "## Getting started with NetCov\n",
    "\n",
    "NetCov is tool that can be used with [Batfish](https://github.com/batfish/batfish) to analyze test coverage for network configurations. Given a set of Batfish queries, it analyzes which lines of configurations have/have not been covered. The result can be used to:\n",
    "- Evaluate the rigorousness of network testing\n",
    "- Help identify the blind spots of network testing\n",
    "\n",
    "NetCov is written in Python and can be used in concert with [pybatfish](https://pybatfish.readthedocs.io/en/latest/notebooks/interacting.html), Batfish's Python client API."
   ]
  },
  {
   "cell_type": "markdown",
   "id": "33904698-2cba-4b99-aaee-2a9b495ebbcf",
   "metadata": {
    "jp-MarkdownHeadingCollapsed": true,
    "tags": []
   },
   "source": [
    "#### To install NetCov:\n",
    "`\n",
    "pip install netcov\n",
    "`\n",
    "A virtual environment and Python version 3.7 is recommended.\n",
    "\n",
    "NetCov leverages LCOV to produce HTML-format coverage report. LCOV can be installed via `brew install lcov` (MacOS) or `sudo apt install lcov` (Ubantu)."
   ]
  },
  {
   "cell_type": "markdown",
   "id": "aedd18e4-0e22-446b-b58a-de1713b9df4c",
   "metadata": {
    "tags": []
   },
   "source": [
    "#### Step 1: Import\n",
    "NetCov encapsulates coverage tracking into a set of hooked pybatfish APIs. To start with, import as the following.\n",
    "For an existing pybatfish script, replace `from pybatfish.client.session import Session` with the following:"
   ]
  },
  {
   "cell_type": "code",
   "execution_count": 1,
   "id": "8c352e5e-1297-4ffd-87ee-3c519fb7d4f0",
   "metadata": {},
   "outputs": [],
   "source": [
    "from netcov import NetCovSession as Session"
   ]
  },
  {
   "cell_type": "markdown",
   "id": "de94fcd5-d3aa-4b1f-b62d-dfad38606c93",
   "metadata": {
    "tags": []
   },
   "source": [
    "#### Step 2: Interact with Batfish service as normal"
   ]
  },
  {
   "cell_type": "markdown",
   "id": "3852848b",
   "metadata": {},
   "source": [
    "To proceed, please ensure that your Batfish service is running on localhost."
   ]
  },
  {
   "cell_type": "code",
   "execution_count": 2,
   "id": "f1dabe4e-b07d-437d-94cc-048650d7fb2d",
   "metadata": {},
   "outputs": [],
   "source": [
    "bf = Session(host=\"localhost\")\n",
    "bf.init_snapshot(\"fattree4\", overwrite=True);"
   ]
  },
  {
   "cell_type": "markdown",
   "id": "855a00d7-d886-49e9-b863-b8601257d678",
   "metadata": {
    "tags": []
   },
   "source": [
    "#### Step 3: Network testing using Batfish queries as normal\n",
    "NetCov automatically tracks coverage for supported types of queries, such as `bf.q.routes()` and `bf.q.traceroute()`."
   ]
  },
  {
   "cell_type": "code",
   "execution_count": 3,
   "id": "35ef4772-9cf3-4b66-8770-e645c5d7e029",
   "metadata": {},
   "outputs": [],
   "source": [
    "def test_default_route_presence():\n",
    "    \"\"\"Check that all routers have the default route.\"\"\"\n",
    "    fattree_nodes = bf.q.nodeProperties(nodes=\"/edge|aggr|core/\").answer().frame()['Node'].to_list()\n",
    "    for node in fattree_nodes:\n",
    "        r = bf.q.routes(nodes=node, network=\"0.0.0.0/0\").answer().frame()\n",
    "        assert len(r.index) > 0\n",
    "        \n",
    "test_default_route_presence()"
   ]
  },
  {
   "cell_type": "code",
   "execution_count": 4,
   "id": "71e3424a-80fd-4be3-868a-0d1e586b5aff",
   "metadata": {},
   "outputs": [],
   "source": [
    "from pybatfish.datamodel import HeaderConstraints\n",
    "def test_pingmesh():\n",
    "    \"\"\"Check that all pairs of leaf routers can reach each other.\"\"\"\n",
    "    leaf_nodes = bf.q.nodeProperties(nodes=\"/edge/\").answer().frame()['Node'].to_list()\n",
    "    for src in leaf_nodes:\n",
    "        for dst in leaf_nodes:\n",
    "            tr = bf.q.traceroute(\n",
    "                startLocation=src, \n",
    "                headers=HeaderConstraints(\n",
    "                    srcIps=f\"{src}[Loopback0]\",\n",
    "                    dstIps=f\"{dst}[Loopback0]\"), \n",
    "                maxTraces=1\n",
    "            ).answer().frame()\n",
    "            assert tr.Traces[0][0][-1].node == dst\n",
    "            assert tr.Traces[0][0][-1][-1].action == 'ACCEPTED'\n",
    "            assert tr.Traces[0][0][-1][-1].detail.interface == 'Loopback0'    \n",
    "\n",
    "test_pingmesh()"
   ]
  },
  {
   "cell_type": "markdown",
   "id": "899f9c8d-abbc-4492-a135-50daa0dc05e9",
   "metadata": {
    "tags": []
   },
   "source": [
    "#### Step 4: Coverage results"
   ]
  },
  {
   "cell_type": "markdown",
   "id": "ce7139a3",
   "metadata": {},
   "source": [
    "To print coverage metrics into the console:"
   ]
  },
  {
   "cell_type": "code",
   "execution_count": 5,
   "id": "8fba7c9a-4383-4374-89a5-0222c719e382",
   "metadata": {},
   "outputs": [
    {
     "name": "stderr",
     "output_type": "stream",
     "text": [
      "Configuration coverage:\n",
      "    Covered lines:                         640/784 (81.63%)\n",
      "Breakdown:\n",
      "    bgp neighbor:                          136/136 (100.00%)\n",
      "    interface:                             492/636 (77.36%)\n",
      "    route-map-clause:                      8/8 (100.00%)\n",
      "    route-map:                             8/8 (100.00%)\n",
      "    ipv4 prefix-list:                      4/4 (100.00%)\n"
     ]
    }
   ],
   "source": [
    "bf.cov.result()"
   ]
  },
  {
   "cell_type": "markdown",
   "id": "47d04d16",
   "metadata": {},
   "source": [
    "To view line-level coverage result as annotations on source configurations, use the command below and check out the generated HTML report under `SNAPSHOT_PATH/coverage` directory:"
   ]
  },
  {
   "cell_type": "code",
   "execution_count": 6,
   "id": "a160af1d-0ca8-4fdf-85e0-a4915f9252de",
   "metadata": {},
   "outputs": [],
   "source": [
    "bf.cov.html_report()"
   ]
  }
 ],
 "metadata": {
  "kernelspec": {
   "display_name": "Python 3.7.6 ('netv')",
   "language": "python",
   "name": "python3"
  },
  "language_info": {
   "codemirror_mode": {
    "name": "ipython",
    "version": 3
   },
   "file_extension": ".py",
   "mimetype": "text/x-python",
   "name": "python",
   "nbconvert_exporter": "python",
   "pygments_lexer": "ipython3",
   "version": "3.7.6"
  },
  "vscode": {
   "interpreter": {
    "hash": "496a6b277aaecbd86c82f400c46305229fc297a6aa444430990ab0bebe2cba04"
   }
  }
 },
 "nbformat": 4,
 "nbformat_minor": 5
}
